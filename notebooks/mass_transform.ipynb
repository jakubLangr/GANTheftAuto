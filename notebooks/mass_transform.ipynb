{
 "cells": [
  {
   "cell_type": "code",
   "execution_count": 1,
   "id": "170911a3",
   "metadata": {},
   "outputs": [],
   "source": [
    "import cv2"
   ]
  },
  {
   "cell_type": "code",
   "execution_count": 50,
   "id": "7274d469",
   "metadata": {},
   "outputs": [],
   "source": [
    "import os\n",
    "import pandas as pd\n",
    "import gzip\n",
    "import numpy as np\n",
    "import pickle\n",
    "import tqdm"
   ]
  },
  {
   "cell_type": "code",
   "execution_count": null,
   "id": "adcd6d34",
   "metadata": {},
   "outputs": [],
   "source": [
    "import matplotlib.pylab as plt"
   ]
  },
  {
   "cell_type": "code",
   "execution_count": 70,
   "id": "fe7eaa42",
   "metadata": {},
   "outputs": [],
   "source": [
    "%matplotlib inline"
   ]
  },
  {
   "cell_type": "code",
   "execution_count": 7,
   "id": "d4dc0cf5",
   "metadata": {},
   "outputs": [],
   "source": [
    "files = os.listdir('.')"
   ]
  },
  {
   "cell_type": "code",
   "execution_count": 13,
   "id": "a99eeafa",
   "metadata": {},
   "outputs": [
    {
     "name": "stdout",
     "output_type": "stream",
     "text": [
      "/home/jakub/data/rgb\r\n"
     ]
    }
   ],
   "source": [
    "!pwd"
   ]
  },
  {
   "cell_type": "code",
   "execution_count": 11,
   "id": "30c227d4",
   "metadata": {},
   "outputs": [
    {
     "data": {
      "text/plain": [
       "(512, 512, 3)"
      ]
     },
     "execution_count": 11,
     "metadata": {},
     "output_type": "execute_result"
    }
   ],
   "source": [
    "cv2.imread(files[0]).shape"
   ]
  },
  {
   "cell_type": "code",
   "execution_count": 86,
   "id": "1295828d",
   "metadata": {},
   "outputs": [],
   "source": [
    "counter = 0\n",
    "obs_array = []\n",
    "n = 0\n",
    "\n",
    "def create_episodes(file):\n",
    "    im = cv2.imread(file)\n",
    "    try:\n",
    "        im.shape==(512,512,3)\n",
    "        global counter\n",
    "        global obs_array\n",
    "        global n\n",
    "\n",
    "        counter += 1 \n",
    "\n",
    "        image = cv2.resize(im[204:,:],(80,48))\n",
    "        obs_array.append(image)\n",
    "\n",
    "        if counter==300:\n",
    "            # write data out\n",
    "            obs_array = np.array(obs_array)\n",
    "\n",
    "            actions = 300 * [1]\n",
    "            data = {\n",
    "                'actions' : actions,\n",
    "                'observations': obs_array }\n",
    "            path = f'../transformed_carla/{n}.pickle.gz'\n",
    "            n += 1\n",
    "\n",
    "            fp= gzip.open(path,'w')\n",
    "            pickle.dump(data,fp)\n",
    "            fp.close()\n",
    "\n",
    "            print(f\"Wrote {obs_array.shape} to {path}\")\n",
    "            counter = 0\n",
    "            obs_array = []\n",
    "    except AttributeError:\n",
    "        print(file)\n"
   ]
  },
  {
   "cell_type": "code",
   "execution_count": 77,
   "id": "881e5739",
   "metadata": {},
   "outputs": [
    {
     "name": "stdout",
     "output_type": "stream",
     "text": [
      "Wrote (300, 48, 80, 3) to ../transformed_carla/0.pickle.gz\n"
     ]
    }
   ],
   "source": [
    "for f in files[:301]:\n",
    "    create_episodes(f)"
   ]
  },
  {
   "cell_type": "code",
   "execution_count": 78,
   "id": "6f7bbfce",
   "metadata": {},
   "outputs": [
    {
     "data": {
      "text/plain": [
       "dict_keys(['actions', 'observations'])"
      ]
     },
     "execution_count": 78,
     "metadata": {},
     "output_type": "execute_result"
    }
   ],
   "source": [
    "d = pickle.load(gzip.open('../transformed_carla/0.pickle.gz'))\n",
    "d.keys()"
   ]
  },
  {
   "cell_type": "code",
   "execution_count": 79,
   "id": "76d7f455",
   "metadata": {},
   "outputs": [
    {
     "data": {
      "text/plain": [
       "([1, 1, 1, 1, 1], 300)"
      ]
     },
     "execution_count": 79,
     "metadata": {},
     "output_type": "execute_result"
    }
   ],
   "source": [
    "d['actions'][:5], len(d['actions'])"
   ]
  },
  {
   "cell_type": "code",
   "execution_count": 80,
   "id": "b5a71aab",
   "metadata": {},
   "outputs": [
    {
     "data": {
      "text/plain": [
       "(300, 48, 80, 3)"
      ]
     },
     "execution_count": 80,
     "metadata": {},
     "output_type": "execute_result"
    }
   ],
   "source": [
    "d['observations'].shape"
   ]
  },
  {
   "cell_type": "code",
   "execution_count": 81,
   "id": "a13e7885",
   "metadata": {},
   "outputs": [
    {
     "data": {
      "text/plain": [
       "<matplotlib.image.AxesImage at 0x7fdd7ad88a90>"
      ]
     },
     "execution_count": 81,
     "metadata": {},
     "output_type": "execute_result"
    },
    {
     "data": {
      "image/png": "[encoded data removed]",
      "text/plain": [
       "<Figure size 432x288 with 1 Axes>"
      ]
     },
     "metadata": {
      "needs_background": "light"
     },
     "output_type": "display_data"
    }
   ],
   "source": [
    "plt.imshow(d['observations'][0])"
   ]
  },
  {
   "cell_type": "code",
   "execution_count": 87,
   "id": "e210742c",
   "metadata": {},
   "outputs": [
    {
     "name": "stdout",
     "output_type": "stream",
     "text": [
      "Wrote (300, 48, 80, 3) to ../transformed_carla/0.pickle.gz\n",
      "Wrote (300, 48, 80, 3) to ../transformed_carla/1.pickle.gz\n",
      "Wrote (300, 48, 80, 3) to ../transformed_carla/2.pickle.gz\n",
      "Wrote (300, 48, 80, 3) to ../transformed_carla/3.pickle.gz\n",
      "mass_transform.ipynb\n",
      "Wrote (300, 48, 80, 3) to ../transformed_carla/4.pickle.gz\n",
      "Wrote (300, 48, 80, 3) to ../transformed_carla/5.pickle.gz\n",
      "Wrote (300, 48, 80, 3) to ../transformed_carla/6.pickle.gz\n",
      ".ipynb_checkpoints\n"
     ]
    }
   ],
   "source": [
    "for f in files:\n",
    "    create_episodes(f)"
   ]
  },
  {
   "cell_type": "code",
   "execution_count": null,
   "id": "b7e44cd9",
   "metadata": {},
   "outputs": [],
   "source": []
  }
 ],
 "metadata": {
  "kernelspec": {
   "display_name": "Python 3",
   "language": "python",
   "name": "python3"
  },
  "language_info": {
   "codemirror_mode": {
    "name": "ipython",
    "version": 3
   },
   "file_extension": ".py",
   "mimetype": "text/x-python",
   "name": "python",
   "nbconvert_exporter": "python",
   "pygments_lexer": "ipython3",
   "version": "3.7.10"
  }
 },
 "nbformat": 4,
 "nbformat_minor": 5
}
